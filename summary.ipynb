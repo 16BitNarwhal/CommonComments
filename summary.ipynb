{
 "cells": [
  {
   "cell_type": "code",
   "execution_count": 1,
   "metadata": {},
   "outputs": [
    {
     "name": "stderr",
     "output_type": "stream",
     "text": [
      "c:\\Users\\ericz\\miniconda3\\envs\\cc\\lib\\site-packages\\tqdm\\auto.py:21: TqdmWarning: IProgress not found. Please update jupyter and ipywidgets. See https://ipywidgets.readthedocs.io/en/stable/user_install.html\n",
      "  from .autonotebook import tqdm as notebook_tqdm\n"
     ]
    }
   ],
   "source": [
    "from sklearn.cluster import KMeans\n",
    "from transformers import pipeline\n",
    "import pandas as pd\n",
    "import numpy as np\n"
   ]
  },
  {
   "cell_type": "code",
   "execution_count": 6,
   "metadata": {},
   "outputs": [
    {
     "name": "stderr",
     "output_type": "stream",
     "text": [
      "c:\\Users\\ericz\\miniconda3\\envs\\cc\\lib\\site-packages\\sklearn\\cluster\\_kmeans.py:1416: FutureWarning: The default value of `n_init` will change from 10 to 'auto' in 1.4. Set the value of `n_init` explicitly to suppress the warning\n",
      "  super()._check_params_vs_input(X, default_n_init=10)\n",
      "c:\\Users\\ericz\\miniconda3\\envs\\cc\\lib\\site-packages\\joblib\\externals\\loky\\backend\\context.py:110: UserWarning: Could not find the number of physical cores for the following reason:\n",
      "found 0 physical cores < 1\n",
      "Returning the number of logical cores instead. You can silence this warning by setting LOKY_MAX_CPU_COUNT to the number of cores you want to use.\n",
      "  warnings.warn(\n",
      "  File \"c:\\Users\\ericz\\miniconda3\\envs\\cc\\lib\\site-packages\\joblib\\externals\\loky\\backend\\context.py\", line 217, in _count_physical_cores\n",
      "    raise ValueError(\n",
      "c:\\Users\\ericz\\miniconda3\\envs\\cc\\lib\\site-packages\\sklearn\\cluster\\_kmeans.py:1440: UserWarning: KMeans is known to have a memory leak on Windows with MKL, when there are less chunks than available threads. You can avoid it by setting the environment variable OMP_NUM_THREADS=6.\n",
      "  warnings.warn(\n"
     ]
    }
   ],
   "source": [
    "# read data\n",
    "df = pd.read_csv('comments.csv')\n",
    "\n",
    "# preprocess\n",
    "df = df.dropna()\n",
    "df['comments'] = df['comments'].str.replace(r'[^a-zA-Z0-9\\s]', '', regex=True)\n",
    "comments = df['comments'].tolist()\n",
    "\n",
    "# load embeddings\n",
    "embeddings = pd.read_csv('embed.csv')\n",
    "X = np.array(embeddings)\n",
    "\n",
    "df[['x', 'y']] = X[:, :2]  # assume first two dimensions\n",
    "\n",
    "# cluster\n",
    "cluster = KMeans(n_clusters=10, random_state=42).fit(X)\n",
    "df['cluster'] = cluster.labels_\n",
    "df['cluster'] = df['cluster'].astype(str)"
   ]
  },
  {
   "cell_type": "code",
   "execution_count": 7,
   "metadata": {},
   "outputs": [],
   "source": [
    "summarizer = pipeline(\"summarization\", model=\"sshleifer/distilbart-cnn-12-6\")"
   ]
  },
  {
   "cell_type": "code",
   "execution_count": 10,
   "metadata": {},
   "outputs": [],
   "source": [
    "cluster_summary = df.groupby('cluster').agg({'comments': list}).reset_index()\n",
    "cluster_summary['comments'] = cluster_summary['comments'].apply(lambda x: ' '.join(x)[:1000])\n",
    "cluster_summary['summary'] = cluster_summary['comments'].apply(lambda x: summarizer(x, min_length=5, max_length=100)[0]['summary_text'])"
   ]
  },
  {
   "cell_type": "code",
   "execution_count": 14,
   "metadata": {},
   "outputs": [
    {
     "data": {
      "text/plain": [
       "' Mark Ronson and Bruno Mars need a permanent partnership where they keep making funk tracks because believe me we need them  For better or for worse they need them . Bruno Mars is one of the top pop musicians of our age .'"
      ]
     },
     "execution_count": 14,
     "metadata": {},
     "output_type": "execute_result"
    }
   ],
   "source": [
    "cluster_summary['summary'][1]"
   ]
  }
 ],
 "metadata": {
  "kernelspec": {
   "display_name": "cc",
   "language": "python",
   "name": "python3"
  },
  "language_info": {
   "codemirror_mode": {
    "name": "ipython",
    "version": 3
   },
   "file_extension": ".py",
   "mimetype": "text/x-python",
   "name": "python",
   "nbconvert_exporter": "python",
   "pygments_lexer": "ipython3",
   "version": "3.9.18"
  }
 },
 "nbformat": 4,
 "nbformat_minor": 2
}
