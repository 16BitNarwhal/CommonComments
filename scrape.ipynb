{
 "cells": [
  {
   "cell_type": "code",
   "execution_count": 2,
   "metadata": {},
   "outputs": [],
   "source": [
    "from selenium import webdriver\n",
    "from selenium.webdriver.common.by import By\n",
    "from selenium.webdriver.support.ui import WebDriverWait\n",
    "from selenium.webdriver.support import expected_conditions as EC\n",
    "import pandas as pd\n",
    "import time\n"
   ]
  },
  {
   "cell_type": "markdown",
   "metadata": {},
   "source": [
    "## scrape youtube\n"
   ]
  },
  {
   "cell_type": "code",
   "execution_count": null,
   "metadata": {},
   "outputs": [],
   "source": [
    "driver = webdriver.Chrome()\n",
    "driver.get('https://www.youtube.com/watch?v=OPf0YbXqDm0')\n",
    "\n",
    "time.sleep(10)\n",
    "\n",
    "driver.execute_script(\"window.scrollTo(0, window.innerHeight)\")\n",
    "\n",
    "time.sleep(10)\n",
    "\n",
    "last_height = driver.execute_script(\"return document.documentElement.scrollHeight\")\n",
    "\n",
    "while True:\n",
    "    # Scroll down to bottom\n",
    "    driver.execute_script(\"window.scrollTo(0, document.documentElement.scrollHeight);\")\n",
    "\n",
    "    # Wait to load page\n",
    "    time.sleep(2)\n",
    "\n",
    "    # Calculate new scroll height and compare with last scroll height\n",
    "    new_height = driver.execute_script(\"return document.documentElement.scrollHeight\")\n",
    "    if new_height == last_height:\n",
    "        break\n",
    "    last_height = new_height\n",
    "\n",
    "wait = WebDriverWait(driver, 10)\n",
    "comments = wait.until(EC.presence_of_all_elements_located((By.CSS_SELECTOR, \"#content-text\")))\n",
    "\n",
    "for comment in comments:\n",
    "    print(comment.text)"
   ]
  },
  {
   "cell_type": "code",
   "execution_count": 35,
   "metadata": {},
   "outputs": [
    {
     "data": {
      "text/html": [
       "<div>\n",
       "<style scoped>\n",
       "    .dataframe tbody tr th:only-of-type {\n",
       "        vertical-align: middle;\n",
       "    }\n",
       "\n",
       "    .dataframe tbody tr th {\n",
       "        vertical-align: top;\n",
       "    }\n",
       "\n",
       "    .dataframe thead th {\n",
       "        text-align: right;\n",
       "    }\n",
       "</style>\n",
       "<table border=\"1\" class=\"dataframe\">\n",
       "  <thead>\n",
       "    <tr style=\"text-align: right;\">\n",
       "      <th></th>\n",
       "      <th>comments</th>\n",
       "    </tr>\n",
       "  </thead>\n",
       "  <tbody>\n",
       "    <tr>\n",
       "      <th>0</th>\n",
       "      <td>You can't stop dancing when you hear this song...</td>\n",
       "    </tr>\n",
       "    <tr>\n",
       "      <th>1</th>\n",
       "      <td>Bruno Mars is one of the top pop musicians, gr...</td>\n",
       "    </tr>\n",
       "    <tr>\n",
       "      <th>2</th>\n",
       "      <td>Yo todos los días la escucho</td>\n",
       "    </tr>\n",
       "    <tr>\n",
       "      <th>3</th>\n",
       "      <td>Listening and dancing!!!</td>\n",
       "    </tr>\n",
       "    <tr>\n",
       "      <th>4</th>\n",
       "      <td>10 years and this music will never be forgotten</td>\n",
       "    </tr>\n",
       "    <tr>\n",
       "      <th>5</th>\n",
       "      <td>You ever get into a mood at 2:50am and this so...</td>\n",
       "    </tr>\n",
       "    <tr>\n",
       "      <th>6</th>\n",
       "      <td>Can’t believe this was a decade ago and it’s s...</td>\n",
       "    </tr>\n",
       "    <tr>\n",
       "      <th>7</th>\n",
       "      <td>Wow!!! Still LOVE it. So uplifting, yea!️</td>\n",
       "    </tr>\n",
       "    <tr>\n",
       "      <th>8</th>\n",
       "      <td>The urge to dance is irresistible when this so...</td>\n",
       "    </tr>\n",
       "    <tr>\n",
       "      <th>9</th>\n",
       "      <td>I love this so much when I’m in the car with m...</td>\n",
       "    </tr>\n",
       "  </tbody>\n",
       "</table>\n",
       "</div>"
      ],
      "text/plain": [
       "                                            comments\n",
       "0  You can't stop dancing when you hear this song...\n",
       "1  Bruno Mars is one of the top pop musicians, gr...\n",
       "2                      Yo todos los días la escucho \n",
       "3                           Listening and dancing!!!\n",
       "4   10 years and this music will never be forgotten \n",
       "5  You ever get into a mood at 2:50am and this so...\n",
       "6  Can’t believe this was a decade ago and it’s s...\n",
       "7          Wow!!! Still LOVE it. So uplifting, yea!️\n",
       "8  The urge to dance is irresistible when this so...\n",
       "9  I love this so much when I’m in the car with m..."
      ]
     },
     "execution_count": 35,
     "metadata": {},
     "output_type": "execute_result"
    }
   ],
   "source": [
    "# save comment.text (from each comment in comments) to pandas dataframe\n",
    "df = pd.DataFrame([comment.text for comment in comments], columns=['comments'])\n",
    "df.head(10)"
   ]
  },
  {
   "cell_type": "code",
   "execution_count": 31,
   "metadata": {},
   "outputs": [
    {
     "data": {
      "text/html": [
       "<div>\n",
       "<style scoped>\n",
       "    .dataframe tbody tr th:only-of-type {\n",
       "        vertical-align: middle;\n",
       "    }\n",
       "\n",
       "    .dataframe tbody tr th {\n",
       "        vertical-align: top;\n",
       "    }\n",
       "\n",
       "    .dataframe thead th {\n",
       "        text-align: right;\n",
       "    }\n",
       "</style>\n",
       "<table border=\"1\" class=\"dataframe\">\n",
       "  <thead>\n",
       "    <tr style=\"text-align: right;\">\n",
       "      <th></th>\n",
       "      <th>comments</th>\n",
       "    </tr>\n",
       "  </thead>\n",
       "  <tbody>\n",
       "    <tr>\n",
       "      <th>30</th>\n",
       "      <td>bruno mars lembra muito michael jackson e dife...</td>\n",
       "    </tr>\n",
       "    <tr>\n",
       "      <th>31</th>\n",
       "      <td>Great song, it's on my playlist to this day.</td>\n",
       "    </tr>\n",
       "    <tr>\n",
       "      <th>32</th>\n",
       "      <td>I don't care who you are or how old you are. T...</td>\n",
       "    </tr>\n",
       "    <tr>\n",
       "      <th>33</th>\n",
       "      <td>Ok...I'm gonna give this video another 2 weeks...</td>\n",
       "    </tr>\n",
       "    <tr>\n",
       "      <th>34</th>\n",
       "      <td>I've been playing this song about 20 times a d...</td>\n",
       "    </tr>\n",
       "    <tr>\n",
       "      <th>35</th>\n",
       "      <td>True fact : \\n\\nWe can all agree that Mark Ron...</td>\n",
       "    </tr>\n",
       "    <tr>\n",
       "      <th>36</th>\n",
       "      <td>#Great Song</td>\n",
       "    </tr>\n",
       "    <tr>\n",
       "      <th>37</th>\n",
       "      <td>這首歌太經典 除了好聽以外 MV很棒\\n場景 外型 動作 流暢度 質感都很好\\n尤其是舞蹈的...</td>\n",
       "    </tr>\n",
       "    <tr>\n",
       "      <th>38</th>\n",
       "      <td>I’ve been finding this song as it is part of m...</td>\n",
       "    </tr>\n",
       "    <tr>\n",
       "      <th>39</th>\n",
       "      <td>I miss this kind of songs in my daily life</td>\n",
       "    </tr>\n",
       "  </tbody>\n",
       "</table>\n",
       "</div>"
      ],
      "text/plain": [
       "                                             comments\n",
       "30  bruno mars lembra muito michael jackson e dife...\n",
       "31       Great song, it's on my playlist to this day.\n",
       "32  I don't care who you are or how old you are. T...\n",
       "33  Ok...I'm gonna give this video another 2 weeks...\n",
       "34  I've been playing this song about 20 times a d...\n",
       "35  True fact : \\n\\nWe can all agree that Mark Ron...\n",
       "36                                        #Great Song\n",
       "37  這首歌太經典 除了好聽以外 MV很棒\\n場景 外型 動作 流暢度 質感都很好\\n尤其是舞蹈的...\n",
       "38  I’ve been finding this song as it is part of m...\n",
       "39         I miss this kind of songs in my daily life"
      ]
     },
     "execution_count": 31,
     "metadata": {},
     "output_type": "execute_result"
    }
   ],
   "source": [
    "df.tail(10)"
   ]
  },
  {
   "cell_type": "code",
   "execution_count": 36,
   "metadata": {},
   "outputs": [],
   "source": [
    "df.to_csv('comments.csv', index=True, encoding='utf-8-sig')"
   ]
  },
  {
   "cell_type": "code",
   "execution_count": 37,
   "metadata": {},
   "outputs": [],
   "source": [
    "driver.quit()\n"
   ]
  },
  {
   "cell_type": "markdown",
   "metadata": {},
   "source": [
    "## scrape imdb\n"
   ]
  },
  {
   "cell_type": "code",
   "execution_count": 17,
   "metadata": {},
   "outputs": [],
   "source": [
    "driver = webdriver.Chrome()\n",
    "driver.get('https://www.imdb.com/title/tt0068646/reviews/?ref_=tt_ov_rt')\n",
    "\n",
    "time.sleep(1)\n",
    "\n",
    "driver.execute_script(\"window.scrollTo(0, window.innerHeight)\")\n",
    "\n",
    "time.sleep(1)\n",
    "\n",
    "last_height = driver.execute_script(\"return document.documentElement.scrollHeight - 1000;\")\n",
    "\n",
    "while True: # Scroll down to bottom\n",
    "  driver.execute_script(\"window.scrollTo(0, document.documentElement.scrollHeight - 1000);\")\n",
    "\n",
    "  # Click \"load more\"\n",
    "  time.sleep(2)\n",
    "  driver.find_element(By.CSS_SELECTOR, \".ipl-load-more__button\").click()\n",
    "  time.sleep(2)\n",
    "\n",
    "  # Calculate new scroll height and compare with last scroll height\n",
    "  new_height = driver.execute_script(\"window.scrollTo(0, document.documentElement.scrollHeight - 1000);\")\n",
    "\n",
    "  if new_height == last_height:\n",
    "      break\n",
    "  last_height = new_height\n",
    "\n",
    "wait = WebDriverWait(driver, 10)\n",
    "comments = wait.until(EC.presence_of_all_elements_located((By.CSS_SELECTOR, \".text\")))\n",
    "\n",
    "for comment in comments:\n",
    "  print(comment.text)\n"
   ]
  }
 ],
 "metadata": {
  "kernelspec": {
   "display_name": "cc",
   "language": "python",
   "name": "python3"
  },
  "language_info": {
   "codemirror_mode": {
    "name": "ipython",
    "version": 3
   },
   "file_extension": ".py",
   "mimetype": "text/x-python",
   "name": "python",
   "nbconvert_exporter": "python",
   "pygments_lexer": "ipython3",
   "version": "3.9.18"
  }
 },
 "nbformat": 4,
 "nbformat_minor": 2
}
